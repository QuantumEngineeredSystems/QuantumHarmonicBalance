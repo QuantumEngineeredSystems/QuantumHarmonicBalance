{
 "cells": [
  {
   "cell_type": "code",
   "execution_count": 6,
   "metadata": {},
   "outputs": [
    {
     "name": "stderr",
     "output_type": "stream",
     "text": [
      "\u001b[32m\u001b[1m  Activating\u001b[22m\u001b[39m project at `d:\\QuantumHarmonicBalance`\n"
     ]
    }
   ],
   "source": [
    "using Pkg\n",
    "Pkg.activate(\"..\")"
   ]
  },
  {
   "cell_type": "code",
   "execution_count": 7,
   "metadata": {},
   "outputs": [],
   "source": [
    "# using QuantumHarmonicBalance\n",
    "using QuantumCumulants; QC = QuantumCumulants\n",
    "import Plots\n",
    "using ModelingToolkit, OrdinaryDiffEq"
   ]
  },
  {
   "attachments": {
    "image-2.png": {
     "image/png": "[encoded data removed]"
    },
    "image.png": {
     "image/png": "[encoded data removed]"
    }
   },
   "cell_type": "markdown",
   "metadata": {},
   "source": [
    "![image.png](attachment:image.png)\n",
    "\n",
    "![image-2.png](attachment:image-2.png)"
   ]
  },
  {
   "cell_type": "code",
   "execution_count": 48,
   "metadata": {},
   "outputs": [
    {
     "data": {
      "text/latex": [
       "$$ \\begin{equation}\n",
       "\\left[\n",
       "\\begin{array}{c}\n",
       "t \\\\\n",
       "\\end{array}\n",
       "\\right]\n",
       "\\end{equation}\n",
       " $$"
      ],
      "text/plain": [
       "1-element Vector{Num}:\n",
       " t"
      ]
     },
     "execution_count": 48,
     "metadata": {},
     "output_type": "execute_result"
    }
   ],
   "source": [
    "# Hilbert space\n",
    "h = FockSpace(:cavity)\n",
    "\n",
    "@cnumbers Δ F κ ω ω₀\n",
    "@qnumbers a::Destroy(h)\n",
    "@variables t::Real"
   ]
  },
  {
   "cell_type": "code",
   "execution_count": 49,
   "metadata": {},
   "outputs": [
    {
     "data": {
      "text/plain": [
       "Num"
      ]
     },
     "execution_count": 49,
     "metadata": {},
     "output_type": "execute_result"
    }
   ],
   "source": [
    "t |> typeof\n",
    "# rnumber(:t)"
   ]
  },
  {
   "cell_type": "code",
   "execution_count": 50,
   "metadata": {},
   "outputs": [
    {
     "data": {
      "text/plain": [
       "Destroy{FockSpace{Symbol}, Symbol, Int64, Base.ImmutableDict{DataType, Any}}"
      ]
     },
     "execution_count": 50,
     "metadata": {},
     "output_type": "execute_result"
    }
   ],
   "source": [
    "a |> typeof"
   ]
  },
  {
   "cell_type": "code",
   "execution_count": 40,
   "metadata": {},
   "outputs": [
    {
     "data": {
      "text/plain": [
       "empty_qmul (generic function with 1 method)"
      ]
     },
     "execution_count": 40,
     "metadata": {},
     "output_type": "execute_result"
    }
   ],
   "source": [
    "empty_qmul() = QC.QMul(1.0, [])"
   ]
  },
  {
   "cell_type": "code",
   "execution_count": 91,
   "metadata": {},
   "outputs": [
    {
     "data": {
      "text/plain": [
       "rotate (generic function with 7 methods)"
      ]
     },
     "execution_count": 91,
     "metadata": {},
     "output_type": "execute_result"
    }
   ],
   "source": [
    "using QuantumCumulants: check_hilbert, QMul, QSym, Create, Destroy, simplify,QAdd\n",
    "\n",
    "function rotate(input::QMul, a::QSym, ω=cnumber(:ω), t=rnumber(:t); extra_term=true)::QMul\n",
    "    out = 1.0\n",
    "    for arg in input.args_nc\n",
    "        if arg isa Create\n",
    "            out *= exp(-im*ω*t)*arg\n",
    "        elseif arg isa Destroy\n",
    "            out *= exp(im*ω*t)*arg\n",
    "        else\n",
    "            error(\"Unknown type: $(typeof(arg))\")\n",
    "        end\n",
    "    end\n",
    "    extra_term ? input.arg_c*simplify(out) - im*ω*a'*a : input.arg_c*simplify(out)\n",
    "end\n",
    "function rotate(input::QAdd, a::QSym; extra_term=true)\n",
    "\n",
    "    sum(arg -> rotate(arg, a; extra_term=false), input.arguments) - im*ω*a'*a\n",
    "end\n",
    "function rotate(in::Create, a::QSym; extra_term=true)\n",
    "    extra_term ? exp(-im*ω*t)*in - im*ω*a'*a : exp(-im*ω*t)*in \n",
    "end\n",
    "function rotate(in::Destroy, a::QSym; extra_term=true)\n",
    "    extra_term ? exp(im*ω*t)*in - im*ω*a'*a : exp(im*ω*t)*in \n",
    "end\n",
    "rotate(input::Number, a::QSym; extra_term=true) = input - im*ω*a'*a\n"
   ]
  },
  {
   "cell_type": "code",
   "execution_count": 92,
   "metadata": {},
   "outputs": [
    {
     "data": {
      "text/latex": [
       "$6 a^\\dagger a^\\dagger a a + 6 e^{2 i t \\omega} a a + 6 e^{-2 i t \\omega} a^\\dagger a^\\dagger -1 i \\omega a^\\dagger a + 3 + 4 e^{-2 i t \\omega} a^\\dagger a^\\dagger a^\\dagger a + 4 e^{2 i t \\omega} a^\\dagger a a a + e^{4 i t \\omega} a a a a + e^{-4 i t \\omega} a^\\dagger a^\\dagger a^\\dagger a^\\dagger + 12 a^\\dagger a -1 i \\omega a^\\dagger a$"
      ],
      "text/plain": [
       "(6*(a′*a′*a*a)+6exp((0 + 2im)*t*ω)*(a*a)+6exp((0 - 2im)*t*ω)*(a′*a′)+(0 - 1im)*ω*(a′*a)+3+4exp((0 - 2im)*t*ω)*(a′*a′*a′*a)+4exp((0 + 2im)*t*ω)*(a′*a*a*a)+exp((0 + 4im)*t*ω)*(a*a*a*a)+exp((0 - 4im)*t*ω)*(a′*a′*a′*a′)+12*(a′*a)+(0 - 1im)*ω*(a′*a))"
      ]
     },
     "execution_count": 92,
     "metadata": {},
     "output_type": "execute_result"
    }
   ],
   "source": [
    "expr = (a'+a)^4 |> simplify\n",
    "rot = rotate(expr, a)"
   ]
  },
  {
   "cell_type": "code",
   "execution_count": 88,
   "metadata": {},
   "outputs": [
    {
     "data": {
      "text/plain": [
       "3-element Vector{Any}:\n",
       " 3exp((0 - 1im)*t*ω)*(a′)\n",
       " 3exp((0 + 1im)*t*ω)*(a)\n",
       " (0 - 3im)*ω*(a′*a)"
      ]
     },
     "execution_count": 88,
     "metadata": {},
     "output_type": "execute_result"
    }
   ],
   "source": [
    "rot.arguments"
   ]
  },
  {
   "cell_type": "code",
   "execution_count": null,
   "metadata": {},
   "outputs": [],
   "source": []
  }
 ],
 "metadata": {
  "kernelspec": {
   "display_name": "Julia (10 threads) 1.10.1",
   "language": "julia",
   "name": "julia-_10-threads_-1.10"
  },
  "language_info": {
   "file_extension": ".jl",
   "mimetype": "application/julia",
   "name": "julia",
   "version": "1.10.1"
  }
 },
 "nbformat": 4,
 "nbformat_minor": 2
}
