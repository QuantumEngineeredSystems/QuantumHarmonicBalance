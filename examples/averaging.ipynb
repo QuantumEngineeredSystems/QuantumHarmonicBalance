{
 "cells": [
  {
   "cell_type": "code",
   "execution_count": 12,
   "metadata": {},
   "outputs": [
    {
     "name": "stderr",
     "output_type": "stream",
     "text": [
      "\u001b[32m\u001b[1m  Activating\u001b[22m\u001b[39m project at `e:\\QuantumHarmonicBalance`\n"
     ]
    }
   ],
   "source": [
    "using Pkg\n",
    "Pkg.activate(\"..\")"
   ]
  },
  {
   "cell_type": "code",
   "execution_count": 13,
   "metadata": {},
   "outputs": [],
   "source": [
    "using QuantumHarmonicBalance; QHB = QuantumHarmonicBalance\n",
    "using QuantumCumulants; QC = QuantumCumulants\n",
    "import Plots\n",
    "using SymbolicUtils, OrdinaryDiffEq"
   ]
  },
  {
   "cell_type": "code",
   "execution_count": 14,
   "metadata": {},
   "outputs": [
    {
     "data": {
      "text/plain": [
       "(t,)"
      ]
     },
     "execution_count": 14,
     "metadata": {},
     "output_type": "execute_result"
    }
   ],
   "source": [
    "# Hilbert space\n",
    "h = FockSpace(:cavity)\n",
    "\n",
    "@cnumbers Δ F κ ω ω₀ α\n",
    "@qnumbers a::Destroy(h)\n",
    "@syms t::Real"
   ]
  },
  {
   "cell_type": "code",
   "execution_count": 15,
   "metadata": {},
   "outputs": [
    {
     "data": {
      "text/latex": [
       "$0.5 F a^\\dagger + 0.5 F a + 0.75 \\alpha + 1.5 \\alpha a^\\dagger a^\\dagger a a + 3.0 \\alpha a^\\dagger a + \\omega_0 a^\\dagger a + 0.5 F e^{2 i t \\omega} a + 0.5 F e^{-2 i t \\omega} a^\\dagger + 1.5 e^{2 i t \\omega} \\alpha a a + e^{2 i t \\omega} \\alpha a^\\dagger a a a + e^{-2 i t \\omega} \\alpha a^\\dagger a^\\dagger a^\\dagger a + 1.5 e^{-2 i t \\omega} \\alpha a^\\dagger a^\\dagger + 0.25 e^{-4 i t \\omega} \\alpha a^\\dagger a^\\dagger a^\\dagger a^\\dagger + 0.25 e^{4 i t \\omega} \\alpha a a a a -1 \\omega a^\\dagger a$"
      ],
      "text/plain": [
       "(0.5F*(a′)+0.5F*(a)+0.75α+1.5α*(a′*a′*a*a)+3.0α*(a′*a)+ω₀*(a′*a)+0.5F*exp((0 + 2im)*t*ω)*(a)+0.5F*exp((0 - 2im)*t*ω)*(a′)+1.5exp((0 + 2im)*t*ω)*α*(a*a)+exp((0 + 2im)*t*ω)*α*(a′*a*a*a)+exp((0 - 2im)*t*ω)*α*(a′*a′*a′*a)+1.5exp((0 - 2im)*t*ω)*α*(a′*a′)+0.25exp((0 - 4im)*t*ω)*α*(a′*a′*a′*a′)+0.25exp((0 + 4im)*t*ω)*α*(a*a*a*a)+-ω*(a′*a))"
      ]
     },
     "execution_count": 15,
     "metadata": {},
     "output_type": "execute_result"
    }
   ],
   "source": [
    "expr = ω₀*a'*a + α*(a'+ a)^4/4 + F*(a'+ a)*cos(ω*t) |> simplify\n",
    "rot = rotate(expr, a, ω, t)"
   ]
  },
  {
   "cell_type": "code",
   "execution_count": 16,
   "metadata": {},
   "outputs": [
    {
     "data": {
      "text/plain": [
       "Dict{Int64, Union{Number, QSym, QTerm, SymbolicUtils.BasicSymbolic}} with 5 entries:\n",
       "  0  => (0.5F*(a′)+0.5F*(a)+1.5α*(a′*a′*a*a)+3.0α*(a′*a)+-ω*(a′*a)+ω₀*(a′*a))\n",
       "  4  => 0.25α*(a*a*a*a)\n",
       "  2  => (0.5F*(a)+1.5α*(a*a)+α*(a′*a*a*a))\n",
       "  -2 => (0.5F*(a′)+α*(a′*a′*a′*a)+1.5α*(a′*a′))\n",
       "  -4 => 0.25α*(a′*a′*a′*a′)"
      ]
     },
     "execution_count": 16,
     "metadata": {},
     "output_type": "execute_result"
    }
   ],
   "source": [
    "rot_av = QHB.average(rot) |> QHB.remove_constants\n",
    "components = get_fourier_components(rot_av, ω, t)"
   ]
  },
  {
   "cell_type": "code",
   "execution_count": 18,
   "metadata": {},
   "outputs": [
    {
     "data": {
      "text/latex": [
       "$0.5 F a^\\dagger + 0.5 F a + 1.5 \\alpha a^\\dagger a^\\dagger a a + 3.0 \\alpha a^\\dagger a -1 \\omega a^\\dagger a + \\omega_0 a^\\dagger a$"
      ],
      "text/plain": [
       "(0.5F*(a′)+0.5F*(a)+1.5α*(a′*a′*a*a)+3.0α*(a′*a)+-ω*(a′*a)+ω₀*(a′*a))"
      ]
     },
     "execution_count": 18,
     "metadata": {},
     "output_type": "execute_result"
    }
   ],
   "source": [
    "Hrwa  =rotating_wave_approximation(expr, a, ω, t)"
   ]
  },
  {
   "cell_type": "code",
   "execution_count": 21,
   "metadata": {},
   "outputs": [
    {
     "data": {
      "text/latex": [
       "\\begin{align}\n",
       "\\frac{d}{dt} \\langle a\\rangle  =& -0.5 i F -3.0 i \\langle a\\rangle  \\alpha + 1 i \\langle a\\rangle  \\omega -1 i \\langle a\\rangle  \\omega_0 -3.0 i \\langle a^\\dagger\\rangle  \\langle a\\rangle ^{2} \\alpha\n",
       "\\end{align}\n"
      ],
      "text/plain": [
       "∂ₜ(⟨a⟩) = (0.0 - 0.5im)*F + (0.0 - 3.0im)*⟨a⟩*α + (0 + 1im)*⟨a⟩*ω + (0 - 1im)*⟨a⟩*ω₀ + (0.0 - 3.0im)*⟨a′⟩*(⟨a⟩^2)*α\n"
      ]
     },
     "execution_count": 21,
     "metadata": {},
     "output_type": "execute_result"
    }
   ],
   "source": [
    "eqs_RWA = meanfield([a], Hrwa; order=1) |> complete"
   ]
  },
  {
   "cell_type": "code",
   "execution_count": 24,
   "metadata": {},
   "outputs": [
    {
     "data": {
      "text/plain": [
       "(:equations, :operator_equations, :states, :operators, :hamiltonian, :jumps, :jumps_dagger, :rates, :iv, :varmap, :order)"
      ]
     },
     "execution_count": 24,
     "metadata": {},
     "output_type": "execute_result"
    }
   ],
   "source": [
    "eqs_RWA |> typeof |> fieldnames"
   ]
  },
  {
   "cell_type": "code",
   "execution_count": 25,
   "metadata": {},
   "outputs": [
    {
     "data": {
      "text/plain": [
       "1-element Vector{Symbolics.Equation}:\n",
       " ⟨a⟩ ~ (0.0 - 0.5im)*F + (0.0 - 3.0im)*⟨a⟩*α + (0 + 1im)*⟨a⟩*ω + (0 - 1im)*⟨a⟩*ω₀ + (0.0 - 3.0im)*⟨a′⟩*(⟨a⟩^2)*α"
      ]
     },
     "execution_count": 25,
     "metadata": {},
     "output_type": "execute_result"
    }
   ],
   "source": [
    "eqs_RWA.equations"
   ]
  },
  {
   "cell_type": "code",
   "execution_count": null,
   "metadata": {},
   "outputs": [],
   "source": []
  }
 ],
 "metadata": {
  "kernelspec": {
   "display_name": "Julia 1.10.3 (10 threads) 1.10.3",
   "language": "julia",
   "name": "julia-1.10.3-_10-threads_-1.10"
  },
  "language_info": {
   "file_extension": ".jl",
   "mimetype": "application/julia",
   "name": "julia",
   "version": "1.10.3"
  }
 },
 "nbformat": 4,
 "nbformat_minor": 2
}
